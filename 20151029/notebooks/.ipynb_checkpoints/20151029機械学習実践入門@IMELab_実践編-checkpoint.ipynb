{
 "cells": [
  {
   "cell_type": "markdown",
   "metadata": {},
   "source": [
    "# Scikit-learnによる手書き数字認識"
   ]
  },
  {
   "cell_type": "markdown",
   "metadata": {},
   "source": [
    "## Preparation"
   ]
  },
  {
   "cell_type": "markdown",
   "metadata": {},
   "source": [
    "まず必要なモジュールを読み込みましょう。今回利用するライブラリはscikit-learnです。\n",
    "\n",
    "* pythonでは、基本的にファイルの頭で外部モジュールのインポートを行います\n",
    "* pythonを書く際のコード規約については[pep8](http://pep8-ja.readthedocs.org/ja/latest/)をご覧ください"
   ]
  },
  {
   "cell_type": "code",
   "execution_count": 1,
   "metadata": {
    "collapsed": false
   },
   "outputs": [],
   "source": [
    "# coding: utf-8\n",
    "\n",
    "# scikit-learn\n",
    "## dataset読み込みツール\n",
    "from sklearn.datasets import fetch_mldata\n",
    "## random forestを定義したクラス\n",
    "from sklearn.ensemble import RandomForestClassifier\n",
    "##評価ツール\n",
    "from sklearn.metrics import accuracy_score\n",
    "## 交差検証（クロス・バリデーション）ツール\n",
    "from sklearn import cross_validation"
   ]
  },
  {
   "cell_type": "markdown",
   "metadata": {},
   "source": [
    "まず、** fetch_mldata **を使って手書き文字データを読み込みます。読み込んだデータは、** mnist ** という変数に格納します"
   ]
  },
  {
   "cell_type": "code",
   "execution_count": 2,
   "metadata": {
    "collapsed": true
   },
   "outputs": [],
   "source": [
    "mnist = fetch_mldata('MNIST original')"
   ]
  },
  {
   "cell_type": "markdown",
   "metadata": {},
   "source": [
    "mnistは、説明変数 ** mnist[\"data\"] ** とラベル ** mnist[\"target\"] ** から構成されます。  \n",
    "printして中身を覗いてみましょう。"
   ]
  },
  {
   "cell_type": "code",
   "execution_count": 3,
   "metadata": {
    "collapsed": false
   },
   "outputs": [
    {
     "name": "stdout",
     "output_type": "stream",
     "text": [
      "(70000, 784)\n",
      "(70000,)\n"
     ]
    }
   ],
   "source": [
    "print mnist[\"data\"].shape\n",
    "print mnist[\"target\"].shape"
   ]
  },
  {
   "cell_type": "markdown",
   "metadata": {},
   "source": [
    "** shape **で、構造を確認することができます。たとえば** mnist[\"data\"].shape **の(70000, 784)というのは長さ784の配列が70000個格納された二重配列を表しています。ここで、長さ784の配列というのは、縦28×横28の画像一枚のピクセルデータを表しています。つまり、** mnist[\"data\"] **に入っているのは、70000枚の画像のピクセルデータということになります  \n",
    "また、** mnist[\"target\"].shape **の(70000, )というのは単に長さ70000の配列のことで、これは70000件の各画像ピクセルデータがどの数字なのかを表すラベルになっています。"
   ]
  },
  {
   "cell_type": "markdown",
   "metadata": {},
   "source": [
    "では、これらのデータを使って機械学習をしてみます。学習器には、ランダムフォレストという決定木を用いたものを使います。  \n",
    "ランダムフォレストのアルゴリズムは、scikit-learnですでに用意されていて、先に読み込んだ ** RandomForestClassifier **を介して利用することができます。"
   ]
  },
  {
   "cell_type": "code",
   "execution_count": 4,
   "metadata": {
    "collapsed": false
   },
   "outputs": [],
   "source": [
    "rfc = RandomForestClassifier(n_estimators=10)"
   ]
  },
  {
   "cell_type": "markdown",
   "metadata": {},
   "source": [
    "たったこれだけで、rfcという名前でランダムフォレストの学習器が手に入ってしまいました。早速、ランダムフォレストを使って機械学習を行っていきましょう。まず、mnistを訓練用データと評価用データに分ける必要があります。データの分割には、** cross_validation **モジュールの** train_test_split **メソッドが便利です。"
   ]
  },
  {
   "cell_type": "code",
   "execution_count": 5,
   "metadata": {
    "collapsed": true
   },
   "outputs": [],
   "source": [
    "train_data, test_data, train_target, test_target = cross_validation.train_test_split(mnist[\"data\"], mnist[\"target\"], train_size=0.4)"
   ]
  },
  {
   "cell_type": "markdown",
   "metadata": {},
   "source": [
    "** train_data **, ** train_target **がそれぞれ訓練用の説明変数とラベル、** test_data **, ** test_target **がそれぞれ評価用の説明変数とラベルになっています。** train_size **というのは、元のデータのうち何割を訓練用に使うのかを指定する項目です。ここでは、0.4となっているので4割を訓練用に、残りの6割を評価に利用します。  \n",
    "printして、中身を確認してみましょう。"
   ]
  },
  {
   "cell_type": "code",
   "execution_count": 6,
   "metadata": {
    "collapsed": false
   },
   "outputs": [
    {
     "name": "stdout",
     "output_type": "stream",
     "text": [
      "(28000, 784) (28000,)\n",
      "(42000, 784) (42000,)\n"
     ]
    }
   ],
   "source": [
    "print train_data.shape, train_target.shape\n",
    "print test_data.shape, test_target.shape"
   ]
  },
  {
   "cell_type": "markdown",
   "metadata": {},
   "source": [
    "## Fit / Predict"
   ]
  },
  {
   "cell_type": "markdown",
   "metadata": {},
   "source": [
    "実際に学習を行うために、ランダムフォレストなどのscikit-learnが提供する学習器には ** fit ** メソッドと ** predict ** メソッドが実装されています。\n",
    "\n",
    "* fit : 訓練データを用いて学習する\n",
    "* predict : 学習結果を用いて予測する\n",
    "\n",
    "fitメソッドによって訓練を行った後、predictメソッドで予測した結果を評価するという手順になります。予測結果の評価には、** accuracy_score **メソッドを使います。"
   ]
  },
  {
   "cell_type": "code",
   "execution_count": 7,
   "metadata": {
    "collapsed": false,
    "scrolled": true
   },
   "outputs": [
    {
     "name": "stdout",
     "output_type": "stream",
     "text": [
      "0.932761904762\n"
     ]
    }
   ],
   "source": [
    "trained_rfc = rfc.fit(train_data, train_target) # 訓練用データを用いて、学習器を訓練する\n",
    "predicted_target = trained_rfc.predict(test_data) # 訓練済みの学習器を用いて、評価用の説明変数からラベルを予測\n",
    "score = accuracy_score(test_target, predicted_target) # 実際のラベルと予測したラベルを比較して正答率を計算する\n",
    "print score"
   ]
  },
  {
   "cell_type": "markdown",
   "metadata": {},
   "source": [
    "ここで、0.9というスコアは、正答率90%を表しています。かなり高い精度で数字の判別ができていることがわかります"
   ]
  },
  {
   "cell_type": "markdown",
   "metadata": {},
   "source": [
    "## Cross Validation（交差検証）"
   ]
  },
  {
   "cell_type": "markdown",
   "metadata": {},
   "source": [
    "訓練に用いたデータの偏りが、学習精度のブレを引き起こすことがあります。手書き数字認識のケースとしては、訓練データがもし1という数字ばかりだったとしたら、学習器は1以外の数字を判別できなくなってしまいます。この訓練データで学習した学習器を、1以外の数字しか入っていない評価用データを使って検証したとしたらどうでしょう。どう考えても、正しいラベルを予測することは不可能です。"
   ]
  },
  {
   "cell_type": "markdown",
   "metadata": {},
   "source": [
    "そこで、こうしたデータの偏りによる問題を回避するために、クロスバリデーション（交差検証）と呼ばれる方法が存在します。クロスバリデーションでは、訓練用データと評価用データの取り方を変えて、訓練と評価を複数回行います。これら複数回の検証結果を統合することで、データの偏りによる学習精度のブレを考慮した検証を実現します。"
   ]
  },
  {
   "cell_type": "markdown",
   "metadata": {},
   "source": [
    "scikit-learnでは、** cross_validation **モジュールとして、交差検証用のツールが一揃い提供されています。先ほど使った、訓練用データと評価用データの分割メソッドもその一つです。ここでは、 ** cross_val_score **メソッドを用いて、手軽に学習器の精度を検証する方法をご紹介します。使い方は至って簡単で、学習器(rfc)、説明変数(mnist.data)、ラベル(mnist.target)を順番に引数として渡すだけです。**cv**というパラメータで、交差検証を行う回数を指定することができます。"
   ]
  },
  {
   "cell_type": "code",
   "execution_count": 8,
   "metadata": {
    "collapsed": false
   },
   "outputs": [
    {
     "name": "stdout",
     "output_type": "stream",
     "text": [
      "[ 0.94082105  0.93995629  0.94449445]\n"
     ]
    }
   ],
   "source": [
    "score = cross_validation.cross_val_score(rfc, mnist.data, mnist.target, cv=3)\n",
    "print score"
   ]
  },
  {
   "cell_type": "markdown",
   "metadata": {},
   "source": [
    "訓練/評価データの取り方を変えて3回行われた検証の全てにおいて、かなり高いスコアが出ていることがわかります。これらの結果から、「ランダムフォレストは手書き数字認識において、高い精度で学習することが可能である」と言えます"
   ]
  }
 ],
 "metadata": {
  "kernelspec": {
   "display_name": "Python 2",
   "language": "python",
   "name": "python2"
  },
  "language_info": {
   "codemirror_mode": {
    "name": "ipython",
    "version": 2
   },
   "file_extension": ".py",
   "mimetype": "text/x-python",
   "name": "python",
   "nbconvert_exporter": "python",
   "pygments_lexer": "ipython2",
   "version": "2.7.6"
  }
 },
 "nbformat": 4,
 "nbformat_minor": 0
}
