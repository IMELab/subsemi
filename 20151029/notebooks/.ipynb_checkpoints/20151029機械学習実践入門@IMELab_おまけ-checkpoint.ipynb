{
 "cells": [
  {
   "cell_type": "markdown",
   "metadata": {},
   "source": [
    "# Chainerで手軽に深層学習する"
   ]
  },
  {
   "cell_type": "markdown",
   "metadata": {},
   "source": [
    "PFIが開発した[Chainer](http://chainer.org/)というニューラルネットワークのpythonライブラリがあります。今年の夏に出たばかりで、\n",
    "\n",
    "* 扱いが比較的容易でありながら自由度が高いネットワーク定義\n",
    "* 処理が速い（余計なことをせず、numpyを適切に活用している）\n",
    "* CUDA(GPGPU)上で動かすためのオプションが付いている\n",
    "* **国産（超重要）**\n",
    "\n",
    "と、かなり多方面に渡ってポイントが高いため、機械学習界隈は結構盛り上がっていたりします。"
   ]
  },
  {
   "cell_type": "markdown",
   "metadata": {},
   "source": [
    "## Quick Start"
   ]
  },
  {
   "cell_type": "markdown",
   "metadata": {},
   "source": [
    "scikit-learnを使ったときとおなじように、Chainerで手書き文字認識をしてみましょう。  \n",
    "必要なモジュールを読み込みます"
   ]
  },
  {
   "cell_type": "code",
   "execution_count": null,
   "metadata": {
    "collapsed": true
   },
   "outputs": [],
   "source": [
    "# coding: utf-8\n",
    "\n",
    "# numpy\n",
    "import numpy as np\n",
    "\n",
    "# scikit-learn\n",
    "## dataset読み込みツール\n",
    "from sklearn.datasets import fetch_mldata\n",
    "\n",
    "# chainer\n",
    "from chainer import cuda, Function, FunctionSet, gradient_check, Variable, optimizers, utils\n",
    "import chainer.functions as F"
   ]
  }
 ],
 "metadata": {
  "kernelspec": {
   "display_name": "Python 2",
   "language": "python",
   "name": "python2"
  },
  "language_info": {
   "codemirror_mode": {
    "name": "ipython",
    "version": 2
   },
   "file_extension": ".py",
   "mimetype": "text/x-python",
   "name": "python",
   "nbconvert_exporter": "python",
   "pygments_lexer": "ipython2",
   "version": "2.7.6"
  }
 },
 "nbformat": 4,
 "nbformat_minor": 0
}
