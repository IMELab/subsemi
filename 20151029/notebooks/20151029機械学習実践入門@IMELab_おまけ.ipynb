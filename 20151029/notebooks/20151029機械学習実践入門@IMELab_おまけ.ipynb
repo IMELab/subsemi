{
 "cells": [
  {
   "cell_type": "markdown",
   "metadata": {},
   "source": [
    "# Chainerで手軽に深層学習する"
   ]
  },
  {
   "cell_type": "markdown",
   "metadata": {},
   "source": [
    "PFIが開発した[Chainer](http://chainer.org/)というニューラルネットワークのpythonライブラリがあります。今年の夏に出たばかりで、\n",
    "\n",
    "* 扱いが比較的容易でありながら自由度が高いネットワーク定義\n",
    "* 処理が速い（余計なことをせず、numpyを適切に活用している）\n",
    "* CUDA(GPGPU)上で動かすためのオプションが付いている\n",
    "* **国産（超重要）**\n",
    "\n",
    "と、かなり多方面に渡ってポイントが高いため、機械学習界隈は結構盛り上がっていたりします。"
   ]
  },
  {
   "cell_type": "markdown",
   "metadata": {},
   "source": [
    "## Quick Start"
   ]
  },
  {
   "cell_type": "markdown",
   "metadata": {},
   "source": [
    "scikit-learnを使ったときとおなじように、Chainerで手書き文字認識をしてみましょう。  \n",
    "必要なモジュールを読み込みます"
   ]
  },
  {
   "cell_type": "code",
   "execution_count": 1,
   "metadata": {
    "collapsed": true
   },
   "outputs": [],
   "source": [
    "# coding: utf-8\n",
    "\n",
    "# numpy\n",
    "import numpy as np\n",
    "\n",
    "# scikit-learn\n",
    "## dataset読み込みツール\n",
    "from sklearn.datasets import fetch_mldata\n",
    "## 交差検証（クロス・バリデーション）ツール\n",
    "from sklearn import cross_validation\n",
    "\n",
    "# chainer\n",
    "from chainer import cuda, Function, FunctionSet, gradient_check, Variable, optimizers, utils\n",
    "import chainer.functions as F"
   ]
  },
  {
   "cell_type": "code",
   "execution_count": 2,
   "metadata": {
    "collapsed": true
   },
   "outputs": [],
   "source": [
    "# データの準備\n",
    "mnist = fetch_mldata('MNIST original')\n",
    "data = mnist[\"data\"].astype(np.float32) / 255\n",
    "target = mnist[\"target\"].astype(np.int32) \n",
    "train_data, test_data, train_target, test_target = cross_validation.train_test_split(data, target, train_size=0.4)"
   ]
  },
  {
   "cell_type": "code",
   "execution_count": 3,
   "metadata": {
    "collapsed": true
   },
   "outputs": [],
   "source": [
    "# ネットワーク構造の定義\n",
    "model = FunctionSet(\n",
    "     l1 = F.Linear(784, 100),\n",
    "     l2 = F.Linear(100, 100),\n",
    "     l3 = F.Linear(100,  10),\n",
    ")"
   ]
  },
  {
   "cell_type": "code",
   "execution_count": 4,
   "metadata": {
    "collapsed": true
   },
   "outputs": [],
   "source": [
    "# 最適化関数の初期化\n",
    "optimizer = optimizers.SGD()\n",
    "optimizer.setup(model)"
   ]
  },
  {
   "cell_type": "code",
   "execution_count": 5,
   "metadata": {
    "collapsed": true
   },
   "outputs": [],
   "source": [
    "# 順伝搬処理の定義\n",
    "def forward(data, target):\n",
    "    x = Variable(data)\n",
    "    t = Variable(target)\n",
    "    h1 = F.relu(model.l1(x))\n",
    "    h2 = F.relu(model.l2(h1))\n",
    "    y = model.l3(h2)\n",
    "    return F.softmax_cross_entropy(y, t), F.accuracy(y, t)"
   ]
  },
  {
   "cell_type": "code",
   "execution_count": 7,
   "metadata": {
    "collapsed": false
   },
   "outputs": [
    {
     "name": "stdout",
     "output_type": "stream",
     "text": [
      "epoch 0\n",
      "平均精度：0.435357\n",
      "平均損失：1.961395\n",
      "epoch 1\n",
      "平均精度：0.797000\n",
      "平均損失：1.030924\n",
      "epoch 2\n",
      "平均精度：0.860107\n",
      "平均損失：0.591861\n",
      "epoch 3\n",
      "平均精度：0.881821\n",
      "平均損失：0.459784\n",
      "epoch 4\n",
      "平均精度：0.892679\n",
      "平均損失：0.399375\n",
      "epoch 5\n",
      "平均精度：0.900071\n",
      "平均損失：0.364291\n",
      "epoch 6\n",
      "平均精度：0.905214\n",
      "平均損失：0.340762\n",
      "epoch 7\n",
      "平均精度：0.909893\n",
      "平均損失：0.322498\n",
      "epoch 8\n",
      "平均精度：0.913179\n",
      "平均損失：0.308260\n",
      "epoch 9\n",
      "平均精度：0.917071\n",
      "平均損失：0.296003\n",
      "epoch 10\n",
      "平均精度：0.919714\n",
      "平均損失：0.285696\n",
      "epoch 11\n",
      "平均精度：0.922643\n",
      "平均損失：0.275961\n",
      "epoch 12\n",
      "平均精度：0.924000\n",
      "平均損失：0.267152\n",
      "epoch 13\n",
      "平均精度：0.927464\n",
      "平均損失：0.259531\n",
      "epoch 14\n",
      "平均精度：0.929393\n",
      "平均損失：0.252110\n",
      "epoch 15\n",
      "平均精度：0.929964\n",
      "平均損失：0.245428\n",
      "epoch 16\n",
      "平均精度：0.931357\n",
      "平均損失：0.239181\n",
      "epoch 17\n",
      "平均精度：0.933643\n",
      "平均損失：0.233244\n",
      "epoch 18\n",
      "平均精度：0.935071\n",
      "平均損失：0.227812\n",
      "epoch 19\n",
      "平均精度：0.936536\n",
      "平均損失：0.222345\n"
     ]
    }
   ],
   "source": [
    "# ミニバッチ処理による訓練\n",
    "batchsize = 100\n",
    "trainsize = len(train_data)\n",
    "for epoch in range(20):\n",
    "    print('epoch %d' % epoch)\n",
    "    sum_loss, sum_accuracy = 0, 0\n",
    "    indexes = np.random.permutation(trainsize)\n",
    "    for i in range(0, trainsize, batchsize):\n",
    "        #  データをミニバッチに分割\n",
    "        data_batch = train_data[indexes[i : i + batchsize]]\n",
    "        target_batch = train_target[indexes[i : i + batchsize]]\n",
    "        # 最適化関数のパラメータを初期化（勾配を0にする）\n",
    "        optimizer.zero_grads()\n",
    "        # 現在の損失と精度を求める\n",
    "        loss, accuracy = forward(data_batch, target_batch)\n",
    "        sum_loss      += loss.data * batchsize\n",
    "        sum_accuracy  += accuracy.data * batchsize\n",
    "        # 逆伝搬\n",
    "        loss.backward()\n",
    "        # 最適化\n",
    "        optimizer.update()\n",
    "    mean_loss     = sum_loss / trainsize\n",
    "    mean_accuracy = sum_accuracy / trainsize\n",
    "    print \"平均精度：%f\" % mean_accuracy\n",
    "    print \"平均損失：%f\" % mean_loss"
   ]
  },
  {
   "cell_type": "code",
   "execution_count": 8,
   "metadata": {
    "collapsed": false
   },
   "outputs": [
    {
     "name": "stdout",
     "output_type": "stream",
     "text": [
      "平均精度：0.929405\n",
      "平均損失：0.240878\n"
     ]
    }
   ],
   "source": [
    "# ミニバッチ処理による評価\n",
    "sum_loss, sum_accuracy = 0, 0\n",
    "testsize = len(test_data)\n",
    "for i in range(0, testsize, batchsize):\n",
    "    data_batch = test_data[i : i + batchsize]\n",
    "    target_batch = test_target[i : i + batchsize]\n",
    "    loss, accuracy = forward(data_batch, target_batch)\n",
    "    sum_loss      += loss.data * batchsize\n",
    "    sum_accuracy  += accuracy.data * batchsize\n",
    "\n",
    "mean_loss     = sum_loss / testsize\n",
    "mean_accuracy = sum_accuracy / testsize\n",
    "\n",
    "print \"平均精度：%f\" % mean_accuracy\n",
    "print \"平均損失：%f\" % mean_loss"
   ]
  }
 ],
 "metadata": {
  "kernelspec": {
   "display_name": "Python 2",
   "language": "python",
   "name": "python2"
  },
  "language_info": {
   "codemirror_mode": {
    "name": "ipython",
    "version": 2
   },
   "file_extension": ".py",
   "mimetype": "text/x-python",
   "name": "python",
   "nbconvert_exporter": "python",
   "pygments_lexer": "ipython2",
   "version": "2.7.6"
  }
 },
 "nbformat": 4,
 "nbformat_minor": 0
}
